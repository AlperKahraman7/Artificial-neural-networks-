{
  "nbformat": 4,
  "nbformat_minor": 0,
  "metadata": {
    "colab": {
      "provenance": []
    },
    "kernelspec": {
      "name": "python3",
      "display_name": "Python 3"
    },
    "language_info": {
      "name": "python"
    }
  },
  "cells": [
    {
      "cell_type": "code",
      "execution_count": 21,
      "metadata": {
        "colab": {
          "base_uri": "https://localhost:8080/"
        },
        "id": "gIjfpL6YI0Iz",
        "outputId": "91640b2d-e007-485f-91bc-36ecc3198507"
      },
      "outputs": [
        {
          "output_type": "stream",
          "name": "stdout",
          "text": [
            "tensor([[0.5932]], grad_fn=<MulBackward0>)\n"
          ]
        }
      ],
      "source": [
        "import torch\n",
        "import torch.nn as nn\n",
        "torch.manual_seed(1)  # SORUDA BELİRTİLDİĞİ ÜZERE SEED DEĞERİ = 1 ALINDI. ÇIKAN SONUÇ HER ZAMAN [[0.5932]]\n",
        "\n",
        "x = [[1, 2, 3], [4, 5, 6]]                      # Soruda verilen x matrisi\n",
        "\n",
        "tensor_x = torch.tensor(x, dtype=torch.float32) # Devamlı dtype hatası aldığımdan tensor veri tipini float 32 yaptım.\n",
        "\n",
        "reshaped_tensor = tensor_x.view(1, 6)           \n",
        "def my_tanh(x):\n",
        "    return (torch.exp(x) - torch.exp(-x)) / (torch.exp(x) + torch.exp(-x))     # Tanh fonksiyonu soruda istendiği gibi \n",
        "\n",
        "def my_sigmoid(x):\n",
        "    return 1 / (1 + torch.exp(-x))                                             # Sigmoid fonksiyonu soruda istendiği gibi\n",
        "\n",
        "class MyModel(torch.nn.Module):\n",
        "    def __init__(self):\n",
        "        super(MyModel, self).__init__()\n",
        "        self.hidden_layer = torch.nn.Linear(2*3, 50)  # 2x3 boyutunda bir girdi, 50 çıktı boyutu\n",
        "        self.output_layer = torch.nn.Linear(50, 1)  # 50 girdi boyutu, 1 çıktı boyutu\n",
        "\n",
        "\n",
        "\n",
        "    def forward(self, x):\n",
        "        x = my_tanh(self.hidden_layer(x))\n",
        "        x = my_sigmoid(self.output_layer(x))\n",
        "        return x\n",
        "\n",
        "model = MyModel()\n",
        "output = model(reshaped_tensor) \n",
        "\n",
        "print(output)\n"
      ]
    }
  ]
}