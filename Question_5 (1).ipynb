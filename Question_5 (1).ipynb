{
  "nbformat": 4,
  "nbformat_minor": 0,
  "metadata": {
    "colab": {
      "provenance": []
    },
    "kernelspec": {
      "name": "python3",
      "display_name": "Python 3"
    },
    "language_info": {
      "name": "python"
    }
  },
  "cells": [
    {
      "cell_type": "code",
      "execution_count": null,
      "metadata": {
        "id": "mptfPZNMbhAN"
      },
      "outputs": [],
      "source": [
        "import torch\n",
        "import torch.nn as nn\n",
        "import torch.optim as optim\n",
        "from torch.utils.data import Dataset, DataLoader\n",
        "import numpy as np\n",
        "import matplotlib.pyplot as plt\n",
        "import pandas as pd\n",
        "from google.colab import files\n",
        "import io"
      ]
    },
    {
      "cell_type": "code",
      "source": [
        "torch.manual_seed(180401036)"
      ],
      "metadata": {
        "colab": {
          "base_uri": "https://localhost:8080/"
        },
        "id": "CimoOV9nNUKi",
        "outputId": "27ed235e-52c8-4904-cada-37db5ff085fa"
      },
      "execution_count": null,
      "outputs": [
        {
          "output_type": "execute_result",
          "data": {
            "text/plain": [
              "<torch._C.Generator at 0x7f04cbcd9d50>"
            ]
          },
          "metadata": {},
          "execution_count": 58
        }
      ]
    },
    {
      "cell_type": "code",
      "source": [
        "uploaded = files.upload()"
      ],
      "metadata": {
        "colab": {
          "base_uri": "https://localhost:8080/",
          "height": 142
        },
        "id": "ML2TzSc7xEJm",
        "outputId": "3f43ef2c-556c-4d7c-e2a0-d3c2b6187171"
      },
      "execution_count": null,
      "outputs": [
        {
          "output_type": "display_data",
          "data": {
            "text/plain": [
              "<IPython.core.display.HTML object>"
            ],
            "text/html": [
              "\n",
              "     <input type=\"file\" id=\"files-a6b0fc0c-18c4-49ee-8955-107ff9a73850\" name=\"files[]\" multiple disabled\n",
              "        style=\"border:none\" />\n",
              "     <output id=\"result-a6b0fc0c-18c4-49ee-8955-107ff9a73850\">\n",
              "      Upload widget is only available when the cell has been executed in the\n",
              "      current browser session. Please rerun this cell to enable.\n",
              "      </output>\n",
              "      <script>// Copyright 2017 Google LLC\n",
              "//\n",
              "// Licensed under the Apache License, Version 2.0 (the \"License\");\n",
              "// you may not use this file except in compliance with the License.\n",
              "// You may obtain a copy of the License at\n",
              "//\n",
              "//      http://www.apache.org/licenses/LICENSE-2.0\n",
              "//\n",
              "// Unless required by applicable law or agreed to in writing, software\n",
              "// distributed under the License is distributed on an \"AS IS\" BASIS,\n",
              "// WITHOUT WARRANTIES OR CONDITIONS OF ANY KIND, either express or implied.\n",
              "// See the License for the specific language governing permissions and\n",
              "// limitations under the License.\n",
              "\n",
              "/**\n",
              " * @fileoverview Helpers for google.colab Python module.\n",
              " */\n",
              "(function(scope) {\n",
              "function span(text, styleAttributes = {}) {\n",
              "  const element = document.createElement('span');\n",
              "  element.textContent = text;\n",
              "  for (const key of Object.keys(styleAttributes)) {\n",
              "    element.style[key] = styleAttributes[key];\n",
              "  }\n",
              "  return element;\n",
              "}\n",
              "\n",
              "// Max number of bytes which will be uploaded at a time.\n",
              "const MAX_PAYLOAD_SIZE = 100 * 1024;\n",
              "\n",
              "function _uploadFiles(inputId, outputId) {\n",
              "  const steps = uploadFilesStep(inputId, outputId);\n",
              "  const outputElement = document.getElementById(outputId);\n",
              "  // Cache steps on the outputElement to make it available for the next call\n",
              "  // to uploadFilesContinue from Python.\n",
              "  outputElement.steps = steps;\n",
              "\n",
              "  return _uploadFilesContinue(outputId);\n",
              "}\n",
              "\n",
              "// This is roughly an async generator (not supported in the browser yet),\n",
              "// where there are multiple asynchronous steps and the Python side is going\n",
              "// to poll for completion of each step.\n",
              "// This uses a Promise to block the python side on completion of each step,\n",
              "// then passes the result of the previous step as the input to the next step.\n",
              "function _uploadFilesContinue(outputId) {\n",
              "  const outputElement = document.getElementById(outputId);\n",
              "  const steps = outputElement.steps;\n",
              "\n",
              "  const next = steps.next(outputElement.lastPromiseValue);\n",
              "  return Promise.resolve(next.value.promise).then((value) => {\n",
              "    // Cache the last promise value to make it available to the next\n",
              "    // step of the generator.\n",
              "    outputElement.lastPromiseValue = value;\n",
              "    return next.value.response;\n",
              "  });\n",
              "}\n",
              "\n",
              "/**\n",
              " * Generator function which is called between each async step of the upload\n",
              " * process.\n",
              " * @param {string} inputId Element ID of the input file picker element.\n",
              " * @param {string} outputId Element ID of the output display.\n",
              " * @return {!Iterable<!Object>} Iterable of next steps.\n",
              " */\n",
              "function* uploadFilesStep(inputId, outputId) {\n",
              "  const inputElement = document.getElementById(inputId);\n",
              "  inputElement.disabled = false;\n",
              "\n",
              "  const outputElement = document.getElementById(outputId);\n",
              "  outputElement.innerHTML = '';\n",
              "\n",
              "  const pickedPromise = new Promise((resolve) => {\n",
              "    inputElement.addEventListener('change', (e) => {\n",
              "      resolve(e.target.files);\n",
              "    });\n",
              "  });\n",
              "\n",
              "  const cancel = document.createElement('button');\n",
              "  inputElement.parentElement.appendChild(cancel);\n",
              "  cancel.textContent = 'Cancel upload';\n",
              "  const cancelPromise = new Promise((resolve) => {\n",
              "    cancel.onclick = () => {\n",
              "      resolve(null);\n",
              "    };\n",
              "  });\n",
              "\n",
              "  // Wait for the user to pick the files.\n",
              "  const files = yield {\n",
              "    promise: Promise.race([pickedPromise, cancelPromise]),\n",
              "    response: {\n",
              "      action: 'starting',\n",
              "    }\n",
              "  };\n",
              "\n",
              "  cancel.remove();\n",
              "\n",
              "  // Disable the input element since further picks are not allowed.\n",
              "  inputElement.disabled = true;\n",
              "\n",
              "  if (!files) {\n",
              "    return {\n",
              "      response: {\n",
              "        action: 'complete',\n",
              "      }\n",
              "    };\n",
              "  }\n",
              "\n",
              "  for (const file of files) {\n",
              "    const li = document.createElement('li');\n",
              "    li.append(span(file.name, {fontWeight: 'bold'}));\n",
              "    li.append(span(\n",
              "        `(${file.type || 'n/a'}) - ${file.size} bytes, ` +\n",
              "        `last modified: ${\n",
              "            file.lastModifiedDate ? file.lastModifiedDate.toLocaleDateString() :\n",
              "                                    'n/a'} - `));\n",
              "    const percent = span('0% done');\n",
              "    li.appendChild(percent);\n",
              "\n",
              "    outputElement.appendChild(li);\n",
              "\n",
              "    const fileDataPromise = new Promise((resolve) => {\n",
              "      const reader = new FileReader();\n",
              "      reader.onload = (e) => {\n",
              "        resolve(e.target.result);\n",
              "      };\n",
              "      reader.readAsArrayBuffer(file);\n",
              "    });\n",
              "    // Wait for the data to be ready.\n",
              "    let fileData = yield {\n",
              "      promise: fileDataPromise,\n",
              "      response: {\n",
              "        action: 'continue',\n",
              "      }\n",
              "    };\n",
              "\n",
              "    // Use a chunked sending to avoid message size limits. See b/62115660.\n",
              "    let position = 0;\n",
              "    do {\n",
              "      const length = Math.min(fileData.byteLength - position, MAX_PAYLOAD_SIZE);\n",
              "      const chunk = new Uint8Array(fileData, position, length);\n",
              "      position += length;\n",
              "\n",
              "      const base64 = btoa(String.fromCharCode.apply(null, chunk));\n",
              "      yield {\n",
              "        response: {\n",
              "          action: 'append',\n",
              "          file: file.name,\n",
              "          data: base64,\n",
              "        },\n",
              "      };\n",
              "\n",
              "      let percentDone = fileData.byteLength === 0 ?\n",
              "          100 :\n",
              "          Math.round((position / fileData.byteLength) * 100);\n",
              "      percent.textContent = `${percentDone}% done`;\n",
              "\n",
              "    } while (position < fileData.byteLength);\n",
              "  }\n",
              "\n",
              "  // All done.\n",
              "  yield {\n",
              "    response: {\n",
              "      action: 'complete',\n",
              "    }\n",
              "  };\n",
              "}\n",
              "\n",
              "scope.google = scope.google || {};\n",
              "scope.google.colab = scope.google.colab || {};\n",
              "scope.google.colab._files = {\n",
              "  _uploadFiles,\n",
              "  _uploadFilesContinue,\n",
              "};\n",
              "})(self);\n",
              "</script> "
            ]
          },
          "metadata": {}
        },
        {
          "output_type": "stream",
          "name": "stdout",
          "text": [
            "Saving cure_the_princess_validation.csv to cure_the_princess_validation (2).csv\n",
            "Saving cure_the_princess_test.csv to cure_the_princess_test (2).csv\n",
            "Saving cure_the_princess_train.csv to cure_the_princess_train (2).csv\n"
          ]
        }
      ]
    },
    {
      "cell_type": "code",
      "source": [
        "train_data = pd.read_csv(io.BytesIO(uploaded['cure_the_princess_train.csv']))\n",
        "train_labels = train_data.iloc[:, -1]\n",
        "train_data = train_data.iloc[:, :-1]\n",
        "\n",
        "val_data = pd.read_csv(io.BytesIO(uploaded['cure_the_princess_validation.csv']))\n",
        "val_labels = val_data.iloc[:, -1]\n",
        "val_data = val_data.iloc[:, :-1] \n",
        "\n",
        "test_data = pd.read_csv(io.BytesIO(uploaded['cure_the_princess_test.csv']))\n",
        "test_labels = test_data.iloc[:, -1]\n",
        "test_data = test_data.iloc[:, :-1]"
      ],
      "metadata": {
        "id": "kb7ZAxBmvHA1"
      },
      "execution_count": null,
      "outputs": []
    },
    {
      "cell_type": "code",
      "source": [
        "\n",
        "class CureThePrincessDataset(Dataset):\n",
        "    def __init__(self, data, targets):\n",
        "        self.data = torch.tensor(data.values).float()\n",
        "        self.targets = torch.tensor(targets.values.reshape(-1, 1)).float()\n",
        "\n",
        "    def __getitem__(self, index):\n",
        "        x = self.data[index]\n",
        "        y = self.targets[index]\n",
        "        return x, y\n",
        "\n",
        "    def __len__(self):\n",
        "        return len(self.data)\n"
      ],
      "metadata": {
        "id": "Fan5eU1XyyAH"
      },
      "execution_count": null,
      "outputs": []
    },
    {
      "cell_type": "code",
      "source": [
        "train_dataset = CureThePrincessDataset(train_data, train_labels)\n",
        "val_dataset = CureThePrincessDataset(val_data, val_labels)\n",
        "test_dataset = CureThePrincessDataset(test_data, test_labels)"
      ],
      "metadata": {
        "id": "lf60r_4Ny5Yc"
      },
      "execution_count": null,
      "outputs": []
    },
    {
      "cell_type": "code",
      "source": [
        "class MultilayerPerceptron(nn.Module):\n",
        "    def __init__(self, input_size, hidden_size1, hidden_size2, output_size):\n",
        "        super(MultilayerPerceptron, self).__init__()\n",
        "        \n",
        "        self.layer1 = nn.Linear(input_size, hidden_size1)\n",
        "        self.layer2 = nn.Linear(hidden_size1, hidden_size2)\n",
        "        self.layer3 = nn.Linear(hidden_size2, output_size)\n",
        "        \n",
        "        self.relu = nn.ReLU()\n",
        "        self.sigmoid = nn.Sigmoid()\n",
        "\n",
        "    def forward(self, x):\n",
        "        x = self.relu(self.layer1(x))\n",
        "        x = self.relu(self.layer2(x))\n",
        "        x = self.sigmoid(self.layer3(x))\n",
        "        return x\n",
        "        \n",
        "input_size = 13                 # Girdi boyutu\n",
        "hidden_size1 = 100         # Ilk gizli katmandaki noron sayisi\n",
        "hidden_size2 = 50           # Ikinci gizli katmandaki noron sayisi\n",
        "output_size = 1                # Cikis katmandaki noron sayisi\n",
        "\n",
        "model = MultilayerPerceptron(input_size, hidden_size1, hidden_size2, output_size)"
      ],
      "metadata": {
        "id": "wCDMUP4k1CgJ"
      },
      "execution_count": null,
      "outputs": []
    },
    {
      "cell_type": "code",
      "source": [
        "# Modelimiz ve veri kümemiz hazır\n",
        "model = MultilayerPerceptron(input_size, hidden_size1, hidden_size2, output_size)\n",
        "train_dataset = CureThePrincessDataset(train_data, train_labels)\n",
        "\n",
        "# Hyperparameters\n",
        "learning_rate = 0.001\n",
        "batch_size = 32\n",
        "num_epochs = 100\n",
        "\n",
        "# Optimizer and Loss\n",
        "optimizer = optim.SGD(model.parameters(), lr=learning_rate)\n",
        "criterion = nn.BCELoss()\n",
        "\n",
        "# DataLoader for batching\n",
        "train_loader = DataLoader(train_dataset, batch_size=batch_size, shuffle=True)\n",
        "\n",
        "# Training loop\n",
        "for epoch in range(num_epochs):\n",
        "    for batch_idx, (data, targets) in enumerate(train_loader):\n",
        "        \n",
        "        # Forward pass\n",
        "        outputs = model(data)\n",
        "        loss = criterion(outputs, targets)\n",
        "        \n",
        "        # Backward pass\n",
        "        optimizer.zero_grad()\n",
        "        loss.backward()\n",
        "        optimizer.step()\n",
        "        \n",
        "    # Print loss after each epoch\n",
        "    print('Epoch [{}/{}], Loss: {:.4f}'.format(epoch+1, num_epochs, loss.item()))"
      ],
      "metadata": {
        "colab": {
          "base_uri": "https://localhost:8080/"
        },
        "id": "zlOpxoZ40wMW",
        "outputId": "bb2d367f-8311-4505-d543-2dd23ad00751"
      },
      "execution_count": null,
      "outputs": [
        {
          "output_type": "stream",
          "name": "stdout",
          "text": [
            "Epoch [1/100], Loss: 0.5494\n",
            "Epoch [2/100], Loss: 0.3694\n",
            "Epoch [3/100], Loss: 0.6522\n",
            "Epoch [4/100], Loss: 0.3417\n",
            "Epoch [5/100], Loss: 0.6212\n",
            "Epoch [6/100], Loss: 0.6215\n",
            "Epoch [7/100], Loss: 0.5852\n",
            "Epoch [8/100], Loss: 0.3419\n",
            "Epoch [9/100], Loss: 0.3569\n",
            "Epoch [10/100], Loss: 0.3476\n",
            "Epoch [11/100], Loss: 0.5324\n",
            "Epoch [12/100], Loss: 0.5315\n",
            "Epoch [13/100], Loss: 0.1937\n",
            "Epoch [14/100], Loss: 0.2138\n",
            "Epoch [15/100], Loss: 0.1844\n",
            "Epoch [16/100], Loss: 0.1930\n",
            "Epoch [17/100], Loss: 0.3069\n",
            "Epoch [18/100], Loss: 0.5373\n",
            "Epoch [19/100], Loss: 0.5879\n",
            "Epoch [20/100], Loss: 0.2882\n",
            "Epoch [21/100], Loss: 0.2407\n",
            "Epoch [22/100], Loss: 0.1865\n",
            "Epoch [23/100], Loss: 0.6173\n",
            "Epoch [24/100], Loss: 0.3176\n",
            "Epoch [25/100], Loss: 0.2576\n",
            "Epoch [26/100], Loss: 0.2167\n",
            "Epoch [27/100], Loss: 0.2097\n",
            "Epoch [28/100], Loss: 0.3082\n",
            "Epoch [29/100], Loss: 0.1856\n",
            "Epoch [30/100], Loss: 0.3391\n",
            "Epoch [31/100], Loss: 0.2688\n",
            "Epoch [32/100], Loss: 0.4579\n",
            "Epoch [33/100], Loss: 0.3786\n",
            "Epoch [34/100], Loss: 0.3798\n",
            "Epoch [35/100], Loss: 0.1953\n",
            "Epoch [36/100], Loss: 0.1208\n",
            "Epoch [37/100], Loss: 0.1400\n",
            "Epoch [38/100], Loss: 0.6040\n",
            "Epoch [39/100], Loss: 0.1302\n",
            "Epoch [40/100], Loss: 0.2949\n",
            "Epoch [41/100], Loss: 0.1485\n",
            "Epoch [42/100], Loss: 0.0996\n",
            "Epoch [43/100], Loss: 0.2117\n",
            "Epoch [44/100], Loss: 0.2473\n",
            "Epoch [45/100], Loss: 0.0637\n",
            "Epoch [46/100], Loss: 0.0599\n",
            "Epoch [47/100], Loss: 0.3787\n",
            "Epoch [48/100], Loss: 0.1959\n",
            "Epoch [49/100], Loss: 0.3033\n",
            "Epoch [50/100], Loss: 0.0670\n",
            "Epoch [51/100], Loss: 0.1100\n",
            "Epoch [52/100], Loss: 0.1208\n",
            "Epoch [53/100], Loss: 0.3541\n",
            "Epoch [54/100], Loss: 0.0867\n",
            "Epoch [55/100], Loss: 0.2667\n",
            "Epoch [56/100], Loss: 0.3105\n",
            "Epoch [57/100], Loss: 0.1931\n",
            "Epoch [58/100], Loss: 0.0626\n",
            "Epoch [59/100], Loss: 0.1457\n",
            "Epoch [60/100], Loss: 0.0130\n",
            "Epoch [61/100], Loss: 0.1304\n",
            "Epoch [62/100], Loss: 0.0375\n",
            "Epoch [63/100], Loss: 0.1161\n",
            "Epoch [64/100], Loss: 0.2566\n",
            "Epoch [65/100], Loss: 0.1071\n",
            "Epoch [66/100], Loss: 0.0282\n",
            "Epoch [67/100], Loss: 0.1022\n",
            "Epoch [68/100], Loss: 0.0742\n",
            "Epoch [69/100], Loss: 0.1492\n",
            "Epoch [70/100], Loss: 0.2279\n",
            "Epoch [71/100], Loss: 0.0338\n",
            "Epoch [72/100], Loss: 0.0845\n",
            "Epoch [73/100], Loss: 0.3748\n",
            "Epoch [74/100], Loss: 0.6879\n",
            "Epoch [75/100], Loss: 0.0592\n",
            "Epoch [76/100], Loss: 0.0812\n",
            "Epoch [77/100], Loss: 0.1870\n",
            "Epoch [78/100], Loss: 0.4699\n",
            "Epoch [79/100], Loss: 1.2767\n",
            "Epoch [80/100], Loss: 0.2156\n",
            "Epoch [81/100], Loss: 0.3525\n",
            "Epoch [82/100], Loss: 0.1569\n",
            "Epoch [83/100], Loss: 0.0840\n",
            "Epoch [84/100], Loss: 0.1212\n",
            "Epoch [85/100], Loss: 0.0687\n",
            "Epoch [86/100], Loss: 0.2129\n",
            "Epoch [87/100], Loss: 0.1477\n",
            "Epoch [88/100], Loss: 0.1478\n",
            "Epoch [89/100], Loss: 0.0913\n",
            "Epoch [90/100], Loss: 0.0265\n",
            "Epoch [91/100], Loss: 0.0280\n",
            "Epoch [92/100], Loss: 0.1150\n",
            "Epoch [93/100], Loss: 0.1812\n",
            "Epoch [94/100], Loss: 0.1035\n",
            "Epoch [95/100], Loss: 0.0380\n",
            "Epoch [96/100], Loss: 0.0352\n",
            "Epoch [97/100], Loss: 0.0324\n",
            "Epoch [98/100], Loss: 0.1969\n",
            "Epoch [99/100], Loss: 0.1570\n",
            "Epoch [100/100], Loss: 0.0416\n"
          ]
        }
      ]
    },
    {
      "cell_type": "code",
      "source": [
        "def validate_model(model, data, labels):\n",
        "    # modeli değerlendirmeye al\n",
        "    model.eval()\n",
        "\n",
        "    # verileri PyTorch tensorüne dönüştür\n",
        "    data = torch.tensor(data.values).float()\n",
        "    labels = torch.tensor(labels.values.reshape(-1, 1)).float()\n",
        "\n",
        "    # verileri modele besle\n",
        "    output = model(data)\n",
        "\n",
        "    # tahminleri yuvarla\n",
        "    output = torch.round(output)\n",
        "\n",
        "    # doğruluğu hesapla\n",
        "    accuracy = (output == labels).sum().item() / len(labels)\n",
        "\n",
        "    return accuracy\n",
        "\n",
        "val_accuracy = validate_model(model, val_data, val_labels)\n",
        "print(\"Validation accuracy:\", val_accuracy)\n",
        "def validate_loss(model, data, labels):\n",
        "    # modeli değerlendirmeye al\n",
        "    model.eval()\n",
        "\n",
        "    # verileri PyTorch tensorüne dönüştür\n",
        "    data = torch.tensor(data.values).float()\n",
        "    labels = torch.tensor(labels.values.reshape(-1, 1)).float()\n",
        "\n",
        "\n",
        "    # verileri modele besle\n",
        "    output = model(data)\n",
        "\n",
        "    # loss'u hesapla\n",
        "    loss = criterion(output, labels)\n",
        "\n",
        "    return loss.item()\n"
      ],
      "metadata": {
        "colab": {
          "base_uri": "https://localhost:8080/"
        },
        "id": "7VDGslEX9WOJ",
        "outputId": "319e0c33-499b-4946-be97-9c335927759a"
      },
      "execution_count": null,
      "outputs": [
        {
          "output_type": "stream",
          "name": "stdout",
          "text": [
            "Validation accuracy: 0.9299363057324841\n"
          ]
        }
      ]
    },
    {
      "cell_type": "code",
      "source": [
        "test_data = pd.read_csv(io.BytesIO(uploaded['cure_the_princess_test.csv']))\n",
        "test_labels = test_data.iloc[:, -1]\n",
        "test_features = test_data.iloc[:, :-1]"
      ],
      "metadata": {
        "id": "oSENKVcY-T_-"
      },
      "execution_count": null,
      "outputs": []
    },
    {
      "cell_type": "code",
      "source": [
        "# boş listeler oluştur\n",
        "train_loss_list = []\n",
        "train_acc_list = []\n",
        "val_loss_list = []\n",
        "val_acc_list = []\n",
        "\n",
        "# Training loop\n",
        "for epoch in range(num_epochs):\n",
        "    # ...\n",
        "    \n",
        "    # Forward pass\n",
        "    outputs = model(data)\n",
        "    loss = criterion(outputs, targets)\n",
        "    \n",
        "    # Backward pass\n",
        "    optimizer.zero_grad()\n",
        "    loss.backward()\n",
        "    optimizer.step()\n",
        "    \n",
        "    # add loss and accuracy values to lists\n",
        "    train_loss_list.append(loss.item())\n",
        "    train_acc_list.append(validate_model(model, train_data, train_labels))\n",
        "    val_loss_list.append(validate_loss(model, val_data, val_labels))\n",
        "    val_acc_list.append(validate_model(model, val_data, val_labels))\n",
        "    \n",
        "    # ...\n",
        "    \n",
        "# plot the loss and accuracy curves\n",
        "import matplotlib.pyplot as plt\n",
        "fig, axs = plt.subplots(2)\n",
        "fig.suptitle('Training Metrics')\n",
        "\n",
        "axs[0].plot(train_loss_list, label='Training Loss')\n",
        "axs[0].plot(val_loss_list, label='Validation Loss')\n",
        "axs[0].set_ylabel('Loss')\n",
        "axs[0].legend()\n",
        "\n",
        "axs[1].plot(train_acc_list, label='Training Accuracy')\n",
        "axs[1].plot(val_acc_list, label='Validation Accuracy')\n",
        "axs[1].set_xlabel('Epoch')\n",
        "axs[1].set_ylabel('Accuracy')\n",
        "axs[1].legend()\n",
        "\n",
        "plt.show()\n"
      ],
      "metadata": {
        "colab": {
          "base_uri": "https://localhost:8080/",
          "height": 497
        },
        "id": "CniK_7NgKyn9",
        "outputId": "2c94fbf9-f78d-47fa-f59d-7d9b2e228952"
      },
      "execution_count": null,
      "outputs": [
        {
          "output_type": "display_data",
          "data": {
            "text/plain": [
              "<Figure size 640x480 with 2 Axes>"
            ],
            "image/png": "[encoded data removed]"
          },
          "metadata": {}
        }
      ]
    },
    {
      "cell_type": "code",
      "source": [
        "test_features_tensor = torch.tensor(test_features.values).float()\n",
        "test_labels_tensor = torch.tensor(test_labels.values).float()"
      ],
      "metadata": {
        "id": "LhpokseR-jod"
      },
      "execution_count": null,
      "outputs": []
    },
    {
      "cell_type": "code",
      "source": [
        "test_accuracy = validate_model(model, test_features, test_labels)\n",
        "print(\"Test accuracy:\", test_accuracy)\n"
      ],
      "metadata": {
        "colab": {
          "base_uri": "https://localhost:8080/"
        },
        "id": "ljsxGGPh-_ZM",
        "outputId": "ec201645-5719-49f5-e33f-d7c7461450a4"
      },
      "execution_count": null,
      "outputs": [
        {
          "output_type": "stream",
          "name": "stdout",
          "text": [
            "Test accuracy: 0.8652849740932642\n"
          ]
        }
      ]
    }
  ]
}