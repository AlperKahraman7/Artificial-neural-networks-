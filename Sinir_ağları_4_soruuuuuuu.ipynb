{
  "nbformat": 4,
  "nbformat_minor": 0,
  "metadata": {
    "colab": {
      "provenance": [],
      "authorship_tag": "ABX9TyOY3XMKgBGEsSZa/Erlb8xH",
      "include_colab_link": true
    },
    "kernelspec": {
      "name": "python3",
      "display_name": "Python 3"
    },
    "language_info": {
      "name": "python"
    }
  },
  "cells": [
    {
      "cell_type": "markdown",
      "metadata": {
        "id": "view-in-github",
        "colab_type": "text"
      },
      "source": [
        "<a href=\"https://colab.research.google.com/github/AlperKahraman7/Artificial-neural-networks-/blob/main/Sinir_a%C4%9Flar%C4%B1_4_soruuuuuuu.ipynb\" target=\"_parent\"><img src=\"https://colab.research.google.com/assets/colab-badge.svg\" alt=\"Open In Colab\"/></a>"
      ]
    },
    {
      "cell_type": "code",
      "source": [
        "import torch\n",
        "import torch.nn as nn\n",
        "\n",
        "\n",
        "x = [[1, 2, 3], [4, 5, 6]]                      # Soruda verilen x matrisi\n",
        "\n",
        "tensor_x = torch.tensor(x, dtype=torch.float32) # Devamlı dtype hatası aldığımdan tensor veri tipini float 32 yaptım.\n",
        "\n",
        "reshaped_tensor = tensor_x.view(1, 6)           \n",
        "def my_tanh(x):\n",
        "    return (torch.exp(x) - torch.exp(-x)) / (torch.exp(x) + torch.exp(-x))     # Tanh fonksiyonu soruda istendiği gibi \n",
        "\n",
        "def my_sigmoid(x):\n",
        "    return 1 / (1 + torch.exp(-x))                                             # Sigmoid fonksiyonu soruda istendiği gibi\n",
        "\n",
        "class MyModel(torch.nn.Module):\n",
        "    def __init__(self):\n",
        "        super(MyModel, self).__init__()\n",
        "        self.hidden_layer = torch.nn.Linear(2*3, 50)  # 2x3 boyutunda bir girdi, 50 çıktı boyutu\n",
        "        self.output_layer = torch.nn.Linear(50, 1)  # 50 girdi boyutu, 1 çıktı boyutu\n",
        "\n",
        "        # Rastgele ağırlıklar ve bias değerleri atama\n",
        "        torch.nn.init.normal_(self.hidden_layer.weight)\n",
        "        torch.nn.init.normal_(self.output_layer.weight)\n",
        "        torch.nn.init.normal_(self.hidden_layer.bias)\n",
        "        torch.nn.init.normal_(self.output_layer.bias)\n",
        "\n",
        "    def forward(self, x):\n",
        "        x = my_tanh(self.hidden_layer(x)) # Hidden layerda matematiksel olarak tanımladığım tanh kullanılıyor.\n",
        "        x = my_sigmoid(self.output_layer(x)) # Output layerda matematiksel olarak tanımladığım sigmoid kullanılıyor.\n",
        "        return x\n",
        "\n",
        "model = MyModel()\n",
        "output = model(reshaped_tensor) # Modele girdi olarak soruda verilen tensoru giriyorum.\n",
        "\n",
        "print(output)\n",
        "\n"
      ],
      "metadata": {
        "colab": {
          "base_uri": "https://localhost:8080/"
        },
        "id": "ia36dpSn2bU3",
        "outputId": "ca7f67fc-50c1-4570-abee-f037f7783676"
      },
      "execution_count": null,
      "outputs": [
        {
          "output_type": "stream",
          "name": "stdout",
          "text": [
            "tensor([[0.1915]], grad_fn=<MulBackward0>)\n"
          ]
        }
      ]
    }
  ]
}